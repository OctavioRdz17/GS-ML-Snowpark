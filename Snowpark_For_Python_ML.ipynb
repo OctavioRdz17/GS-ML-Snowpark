{
 "cells": [
  {
   "cell_type": "markdown",
   "metadata": {},
   "source": [
    "# Project Overview\n",
    "\n",
    "Perform data analysis and data preparation tasks to train a Linear Regression model to predict future ROI (Return On Investment) of variable ad spend budgets across multiple channels including search, video, social media, and email using Snowpark for Python, Snowpark ML and Streamlit. By the end of the session, you will have an interactive web application deployed visualizing the ROI of different allocated advertising spend budgets.\n",
    "\n",
    "***Prerequisite**: Before proceeding with this Notebook, you must first successfully run through Snowpark_For_Python_DE.ipynb.*\n",
    "## Machine Learning\n",
    "\n",
    "In this Notebook, we will focus on Machine Learning in Snowflake using Snowpark for Python.\n",
    "\n",
    "- Establish secure connection to Snowflake\n",
    "- Load features and target from Snowflake table into Snowpark DataFrame\n",
    "- Prepare features for model training\n",
    "- Train ML model using Snowpark ML in Snowflake and upload the model to Snowflake stage\n",
    "- Register ML model and use it for inference from Snowpark ML Model Registry (currently in public preview)\n",
    "    - Note: The ML Model is called from the Streamlit Apps. See [Snowpark_Streamlit_Revenue_Prediction.py](https://github.com/Snowflake-Labs/sfguide-getting-started-dataengineering-ml-snowpark-python/blob/5dd84401337fab20fd8bf95eee3c70b0b2d11809//Snowpark_Streamlit_Revenue_Prediction.py) and [Snowpark_Streamlit_Revenue_Prediction_SiS.py](https://github.com/Snowflake-Labs/sfguide-getting-started-dataengineering-ml-snowpark-python/blob/5dd84401337fab20fd8bf95eee3c70b0b2d11809//Snowpark_Streamlit_Revenue_Prediction_SiS.py)\n",
    "  \n",
    "For environment setup including loading data into Snowflake tables, and step-by-step instructions, please refer to the [QuickStart Guide](https://quickstarts.snowflake.com/guide/getting_started_with_dataengineering_ml_using_snowpark_python/index.html#0).\n"
   ]
  },
  {
   "cell_type": "code",
   "execution_count": null,
   "metadata": {},
   "outputs": [],
   "source": []
  }
 ],
 "metadata": {
  "language_info": {
   "name": "python"
  }
 },
 "nbformat": 4,
 "nbformat_minor": 2
}
